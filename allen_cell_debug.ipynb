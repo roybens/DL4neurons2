{
 "cells": [
  {
   "cell_type": "code",
   "execution_count": 1,
   "id": "20bd49cb-d5d6-4b5b-ad0d-811e764728b2",
   "metadata": {},
   "outputs": [
    {
     "name": "stderr",
     "output_type": "stream",
     "text": [
      "Warning: no DISPLAY environment variable.\n",
      "--No graphics will be displayed.\n"
     ]
    }
   ],
   "source": [
    "import models\n",
    "from run_nompi import get_model\n",
    "import pickle as pkl\n",
    "import logging as log\n",
    "import numpy as np\n",
    "import matplotlib.pyplot as plt\n",
    "import copy"
   ]
  },
  {
   "cell_type": "code",
   "execution_count": 19,
   "id": "a2bb04cb-e83c-4cfa-bd97-933562a3e72f",
   "metadata": {},
   "outputs": [],
   "source": [
    "def make_paramset(my_model,param_ind,nsamples):\n",
    "    def_param_vals = my_model.DEFAULT_PARAMS\n",
    "    param_set = np.array([def_param_vals]*nsamples)\n",
    "    range_to_vary = my_model.PARAM_RANGES[param_ind]\n",
    "    #vals_check = np.linspace(range_to_vary[0],range_to_vary[1],nsamples)\n",
    "    vals_check=def_param_vals[param_ind]*np.exp(np.random.uniform(-1,1,size=nsamples)*np.log(10))\n",
    "    param_set[:,param_ind] = vals_check\n",
    "    return param_set\n",
    "\n",
    "def make_paramset_regions(my_model,param_ind,nsamples,nregions):\n",
    "    def_param_vals = my_model.DEFAULT_PARAMS\n",
    "    param_sets = []\n",
    "    range_to_vary = my_model.PARAM_RANGES[param_ind]\n",
    "    for curr_region in range(nregions):\n",
    "        # curr_lb = -1 + curr_region*(2/nregions)\n",
    "        # curr_ub = -1 + (curr_region+1)*(2/nregions)\n",
    "        curr_lb = -1 + curr_region*(2/nregions)*4\n",
    "        curr_ub = -1 + (curr_region+1)*(2/nregions)*4\n",
    "        print(curr_lb, curr_ub)\n",
    "        curr_param_set = np.array([def_param_vals]*nsamples)\n",
    "        curr_vals_check=def_param_vals[param_ind]*np.exp(np.random.uniform(curr_lb,curr_ub,size=nsamples)*np.log(10))\n",
    "        curr_param_set[:,param_ind] = curr_vals_check\n",
    "        param_sets.append(curr_param_set)\n",
    "    return param_sets\n"
   ]
  },
  {
   "cell_type": "code",
   "execution_count": 20,
   "id": "0a7f2e63-c4b4-42b6-af9b-89015e138266",
   "metadata": {},
   "outputs": [],
   "source": [
    "# log.basicConfig(format='%(asctime)s %(message)s', level=log.DEBUG)\n",
    "mtype = 'L5_TTPC1'\n",
    "etype = 'cADpyr'\n",
    "cell_id = '487664663'\n",
    "param_ind = 3\n",
    "# log = logging.getLogger(__name__)\n",
    "nreigions = 8"
   ]
  },
  {
   "cell_type": "code",
   "execution_count": 21,
   "id": "3fe716f7-4262-46f6-8a1b-6782923fe468",
   "metadata": {},
   "outputs": [
    {
     "name": "stdout",
     "output_type": "stream",
     "text": [
      "WARNING: assuming axontype is truncated\n",
      "-1.0 0.0\n",
      "0.0 1.0\n",
      "1.0 2.0\n",
      "2.0 3.0\n",
      "3.0 4.0\n",
      "4.0 5.0\n",
      "5.0 6.0\n",
      "6.0 7.0\n"
     ]
    }
   ],
   "source": [
    "my_model = get_model('ALLEN_F9',log,m_type=mtype,e_type=etype,cell_i=0,cell_id=cell_id) ;\n",
    "def_vals = my_model.DEFAULT_PARAMS\n",
    "pnames = [my_model.PARAM_NAMES[i] for i in range(len(def_vals)) if def_vals[i]>0]\n",
    "\n",
    "# param_set = make_paramset(my_model,param_ind,20) #4 = gK_Pbar_K_P_soma\n",
    "param_set = make_paramset_regions(my_model,param_ind,20, nreigions) #4 = gK_Pbar_K_P_soma"
   ]
  },
  {
   "cell_type": "code",
   "execution_count": 85,
   "id": "b98c2657-f3f2-4207-9da2-fa502c60d86e",
   "metadata": {},
   "outputs": [],
   "source": [
    "# pnames"
   ]
  },
  {
   "cell_type": "code",
   "execution_count": 86,
   "id": "8f4ed48e-911b-494a-92c5-c2adce634f71",
   "metadata": {},
   "outputs": [
    {
     "data": {
      "text/plain": [
       "array([ True,  True,  True, False,  True,  True,  True,  True,  True,\n",
       "        True,  True,  True,  True,  True,  True,  True])"
      ]
     },
     "execution_count": 86,
     "metadata": {},
     "output_type": "execute_result"
    }
   ],
   "source": [
    "param_set[10] == param_set[11]"
   ]
  },
  {
   "cell_type": "code",
   "execution_count": 87,
   "id": "0fa80b3f-6b30-44ad-86f5-01124c8c583f",
   "metadata": {},
   "outputs": [],
   "source": [
    "# dir(my_model)\n",
    "stimfn = './stims/chaotic_2.csv'\n",
    "stim =  np.genfromtxt(stimfn, dtype=np.float32) "
   ]
  },
  {
   "cell_type": "code",
   "execution_count": 88,
   "id": "1023dbd6-7915-4dde-9d49-f8f50052cf05",
   "metadata": {},
   "outputs": [
    {
     "name": "stdout",
     "output_type": "stream",
     "text": [
      "soma[0]\n",
      "Running simulation for 200.0 ms with dt = 0.025\n",
      "im:  0.00123839 gbar_Ih:  0.000633877 gbar_NaTs:  0.500453 gbar_Nap:  1.75857e-05 gbar_K_P:  0.000679687 gbar_K_T:  1.55986e-05 gbar_SK:  0.000530462 gbar_Ca_HVA:  0.000148359 gbar_Ca_LVA:  0.00960019 gamma_CaDynamics:  0.000679687 decay_CaDynamics:  365.102 g_pas:  1.4063e-05\n"
     ]
    }
   ],
   "source": [
    "target_res = my_model.simulate(stim,0.025)"
   ]
  },
  {
   "cell_type": "code",
   "execution_count": 89,
   "id": "9b823985-584d-4a06-b7f5-4b4ab9603e07",
   "metadata": {},
   "outputs": [
    {
     "data": {
      "text/plain": [
       "[<matplotlib.lines.Line2D at 0x1555073b4880>]"
      ]
     },
     "execution_count": 89,
     "metadata": {},
     "output_type": "execute_result"
    },
    {
     "data": {
      "image/png": "[encoded data removed]",
      "text/plain": [
       "<Figure size 432x288 with 1 Axes>"
      ]
     },
     "metadata": {
      "needs_background": "light"
     },
     "output_type": "display_data"
    }
   ],
   "source": [
    "plt.plot(target_res['v'])"
   ]
  },
  {
   "cell_type": "code",
   "execution_count": 90,
   "id": "ea5db85a-2939-4c12-9c4c-29c07ad475ff",
   "metadata": {},
   "outputs": [
    {
     "name": "stdout",
     "output_type": "stream",
     "text": [
      "orig: 1.758571027409006e-05 , sampled: 2.2316799203072863e-05\n"
     ]
    }
   ],
   "source": [
    "for orig, sampled in zip(def_vals,param_set[11] ):\n",
    "    if orig != sampled:\n",
    "        print(f\"orig: {orig} , sampled: {sampled}\")"
   ]
  },
  {
   "cell_type": "code",
   "execution_count": 118,
   "id": "41ccc9e8-ccfc-44f3-a2c2-23ef37d16dfe",
   "metadata": {},
   "outputs": [
    {
     "name": "stdout",
     "output_type": "stream",
     "text": [
      "WARNING: assuming axontype is truncated\n",
      "gNapbar_Nap_soma is 0.009231679920307287  and orig is 1.758571027409006e-05\n",
      "gNapbar_Nap_soma is 0.009231679920307287  and orig is 1.758571027409006e-05\n",
      "soma[0]\n",
      "Running simulation for 200.0 ms with dt = 0.025\n",
      "im:  0.00123839 gbar_Ih:  0.000633877 gbar_NaTs:  0.500453 gbar_Nap:  0.00923168 gbar_K_P:  0.000679687 gbar_K_T:  1.55986e-05 gbar_SK:  0.000530462 gbar_Ca_HVA:  0.000148359 gbar_Ca_LVA:  0.00960019 gamma_CaDynamics:  0.000679687 decay_CaDynamics:  365.102 g_pas:  1.4063e-05\n"
     ]
    }
   ],
   "source": [
    "pset_copy = np.array(copy.deepcopy(param_set[11]))\n",
    "pset_copy[param_ind] = 9.2316799203072863e-03\n",
    "my_model = get_model('ALLEN_F9',log,mtype,etype,1, cell_id=cell_id, *pset_copy)\n",
    "my_model.DEFAULT_PARAMS = False\n",
    "sampled_res = my_model.simulate(stim,0.025)"
   ]
  },
  {
   "cell_type": "code",
   "execution_count": 119,
   "id": "f02c36e3-8d0c-43a6-a5c6-bdf8c8a13eec",
   "metadata": {},
   "outputs": [
    {
     "data": {
      "text/plain": [
       "Text(0.5, 1.0, 'gNapbar_Nap_soma = 0.009231679920307287')"
      ]
     },
     "execution_count": 119,
     "metadata": {},
     "output_type": "execute_result"
    },
    {
     "data": {
      "image/png": "[encoded data removed]",
      "text/plain": [
       "<Figure size 288x216 with 1 Axes>"
      ]
     },
     "metadata": {
      "needs_background": "light"
     },
     "output_type": "display_data"
    }
   ],
   "source": [
    "fig = plt.figure(figsize=(4,3))\n",
    "plt.plot(target_res['v'], color='black', linewidth=2)\n",
    "plt.plot(sampled_res['v'], color='red')\n",
    "plt.xlabel('timestep - AU')\n",
    "plt.ylabel('mV (Vm)')\n",
    "plt.title(f'{pnames[param_ind]} = {pset_copy[param_ind]}')"
   ]
  },
  {
   "cell_type": "code",
   "execution_count": null,
   "id": "c47dbc3a-9c99-4c43-a933-b4670d97174b",
   "metadata": {},
   "outputs": [],
   "source": []
  }
 ],
 "metadata": {
  "kernelspec": {
   "display_name": "dot_envv2",
   "language": "python",
   "name": "dot_envv2"
  },
  "language_info": {
   "codemirror_mode": {
    "name": "ipython",
    "version": 3
   },
   "file_extension": ".py",
   "mimetype": "text/x-python",
   "name": "python",
   "nbconvert_exporter": "python",
   "pygments_lexer": "ipython3",
   "version": "3.9.7"
  }
 },
 "nbformat": 4,
 "nbformat_minor": 5
}
